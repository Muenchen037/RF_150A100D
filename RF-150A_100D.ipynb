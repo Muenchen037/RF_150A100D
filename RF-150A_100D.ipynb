{
 "cells": [
  {
   "cell_type": "code",
   "execution_count": 1,
   "id": "e7a0d557-2a27-4212-8209-4480691a7b98",
   "metadata": {},
   "outputs": [],
   "source": [
    "#引入需要的包裝\n",
    "\n",
    "import pyvisa\n",
    "import time\n",
    "import math\n",
    "\n",
    "import RF_150A100D from RF150A100D"
   ]
  },
  {
   "cell_type": "markdown",
   "id": "ef8e34e4-4889-4f63-bdc5-41ddb20f47cf",
   "metadata": {},
   "source": [
    "### RF-150A_100D\n",
    "\n",
    "===============Function List=================\n",
    "\n",
    "* Set power state\n",
    "* Set gain\n",
    "\n",
    "若要串接其他儀器 一樣使用class 定義其他儀器的function"
   ]
  },
  {
   "cell_type": "code",
   "execution_count": 3,
   "id": "d6955d7e-0567-48ca-86a0-139cbaa2277c",
   "metadata": {},
   "outputs": [],
   "source": [
    "def calculate_gain_set(gain):\n",
    "    \"\"\"\n",
    "    計算並返回設置增益的值\n",
    "    透過設定的gain去計算給儀器的gain_set該為多少\n",
    "    \"\"\"\n",
    "    ratio = 4095 / 100  # MAX和MIN的比例\n",
    "    gain_set = math.ceil(ratio * gain)  # 使用 math函數進行無條件進位\n",
    "    gain_set = min(gain_set, 4095)  # 限制 gain_set 最大值為 4095\n",
    "    gain_set = str(gain_set).zfill(4)  # 保持四個字元\n",
    "    print(ratio * gain)\n",
    "    return gain_set"
   ]
  },
  {
   "cell_type": "code",
   "execution_count": 4,
   "id": "1a6946b9-26c7-46bc-8404-7c7d337aaf9e",
   "metadata": {},
   "outputs": [],
   "source": [
    "def check_power_state(rf, power_state):\n",
    "    if power_state == 'ON': #判斷書出狀態，選擇def\n",
    "        rf.power_on()\n",
    "    else:\n",
    "        rf.power_off()"
   ]
  },
  {
   "cell_type": "code",
   "execution_count": 6,
   "id": "10e956a6-0637-4e15-b637-6e331419298c",
   "metadata": {
    "scrolled": true
   },
   "outputs": [
    {
     "name": "stdout",
     "output_type": "stream",
     "text": [
      "Connected to instrument.\n",
      "AR-RF/MICROWAVE-INST,150A100D,1.0\n",
      "\n",
      "0.0\n",
      "set gain be G5\n",
      "turn power off\n",
      "Instrument connection closed.\n"
     ]
    }
   ],
   "source": [
    "def main():\n",
    "    \n",
    "    # =========================Parmeters===============================\n",
    "    \"\"\"\n",
    "    Gain : 0~100\n",
    "    Power state : { ON | OFF }\n",
    "    \"\"\"\n",
    "    gain = 5\n",
    "    power_state = 'OFF'\n",
    "    \n",
    "    #====================Instrument Connect Test========================\n",
    "    rf_instrument_address = 'USB0::0x0547::0x1B58::0358752::INSTR'\n",
    "    rf = RF_150A100D(rf_instrument_address)\n",
    "     #若有其他儀器串接下去...\n",
    "\n",
    "    #============================Auto Test==============================\n",
    "    # TO DO:寫For迴圈自動測量的區域\n",
    "    \n",
    "    gain_set = calculate_gain_set(gain=0)  # 計算增益設置值\n",
    "    rf.set_gain(gain, gain_set)\n",
    "\n",
    "    check_power_state(rf, power_state)\n",
    "    \n",
    "    # ============================ Close Instrument======================\n",
    "    rf.close_instrument()\n",
    "    \n",
    "if __name__ == \"__main__\":\n",
    "    main()"
   ]
  },
  {
   "cell_type": "markdown",
   "id": "7c9fb745-03f3-46d6-b83e-5341e9e42b9c",
   "metadata": {},
   "source": []
  },
  {
   "cell_type": "code",
   "execution_count": null,
   "id": "e34afdc0-b65a-47bc-9cde-323ee069bcfa",
   "metadata": {},
   "outputs": [],
   "source": []
  },
  {
   "cell_type": "code",
   "execution_count": null,
   "id": "a26691e0-9d9d-4193-8faa-144087e15380",
   "metadata": {},
   "outputs": [],
   "source": []
  },
  {
   "cell_type": "code",
   "execution_count": null,
   "id": "c6585f1e-be4e-4bff-91d3-0c1963222f76",
   "metadata": {},
   "outputs": [],
   "source": []
  }
 ],
 "metadata": {
  "kernelspec": {
   "display_name": "PyVISA",
   "language": "python",
   "name": "pyvisa"
  },
  "language_info": {
   "codemirror_mode": {
    "name": "ipython",
    "version": 3
   },
   "file_extension": ".py",
   "mimetype": "text/x-python",
   "name": "python",
   "nbconvert_exporter": "python",
   "pygments_lexer": "ipython3",
   "version": "3.8.19"
  }
 },
 "nbformat": 4,
 "nbformat_minor": 5
}
